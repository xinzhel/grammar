{
 "cells": [
  {
   "cell_type": "code",
   "execution_count": 1,
   "metadata": {},
   "outputs": [],
   "source": [
    "import sys\n",
    "sys.path.append('../..')\n",
    "from grammar.db_tool import DBTool\n",
    "from grammar.llm import AnyOpenAILLM\n",
    "from grammar.sql_template_generator import SQLTemplateGenerator\n",
    "from grammar.text_template_generator import TextTemplateGenerator\n",
    "from grammar.qa_generator import QADataGenerator\n",
    "\n",
    "llm = AnyOpenAILLM(model_name = \"gpt4-short\")  \n",
    "connection_string = 'sqlite:///spider-database/database/company_employee/company_employee.sqlite'\n",
    "db_tool = DBTool(connection_string)\n",
    "root_dir = \".\""
   ]
  },
  {
   "cell_type": "code",
   "execution_count": 2,
   "metadata": {},
   "outputs": [],
   "source": [
    "# Step 1: Generate SQL Query Templates\n",
    "## a. Automatically generate SQL query templates\n",
    "sql_template_generator = SQLTemplateGenerator(connection_string, llm)\n",
    "sql_template_generator.set_system_msg()\n",
    "sql_templates = sql_template_generator.generate()\n",
    "sql_template_generator.save(sql_templates, root_dir, overwrite=True)"
   ]
  },
  {
   "cell_type": "code",
   "execution_count": 16,
   "metadata": {},
   "outputs": [
    {
     "name": "stdout",
     "output_type": "stream",
     "text": [
      "[\"SELECT Industry, Company_ID FROM company WHERE Name = '[company.Name]';\", \"SELECT Headquarters, Company_ID FROM company WHERE Name = '[company.Name]';\", \"SELECT Nationality, People_ID FROM people WHERE Name = '[people.Name]';\", \"SELECT Graduation_College, People_ID FROM people WHERE Name = '[people.Name]';\", \"SELECT e.Year_working, e.Company_ID, e.People_ID FROM employment e JOIN company c ON e.Company_ID = c.Company_ID JOIN people p ON e.People_ID = p.People_ID WHERE c.Name = '[company.Name]' AND p.Name = '[people.Name]';\"]\n"
     ]
    }
   ],
   "source": [
    "# b. Manually modify SQL query templates (optional)\n",
    "\n",
    "# c. Load modified SQL query templatesn (optional)\n",
    "sql_templates_with_ids = SQLTemplateGenerator.load(root_dir, file_name='sql_templates_with_ids.txt')\n",
    "sql_templates = SQLTemplateGenerator.load(root_dir, file_name='sql_templates.txt')\n",
    "print(sql_templates_with_ids)"
   ]
  },
  {
   "cell_type": "code",
   "execution_count": 10,
   "metadata": {},
   "outputs": [
    {
     "name": "stdout",
     "output_type": "stream",
     "text": [
      "Text templates for the SQL template: SELECT Industry FROM company WHERE Name = '[company.Name]';. EXIST!!!\n",
      "Text templates for the SQL template: SELECT Headquarters FROM company WHERE Name = '[company.Name]';. EXIST!!!\n",
      "Text templates for the SQL template: SELECT Nationality FROM people WHERE Name = '[people.Name]';. EXIST!!!\n",
      "Text templates for the SQL template: SELECT Graduation_College FROM people WHERE Name = '[people.Name]';. EXIST!!!\n",
      "Text templates for the SQL template: SELECT e.Year_working FROM employment e JOIN company c ON e.Company_ID = c.Company_ID JOIN people p ON e.People_ID = p.People_ID WHERE c.Name = '[company.Name]' AND p.Name = '[people.Name]';. EXIST!!!\n"
     ]
    }
   ],
   "source": [
    "# Step 2: Generate Text Query Templates\n",
    "linguistic_attr = \"short\"\n",
    "text_template_generator = TextTemplateGenerator(llm=llm)\n",
    "text_template_generator.set_system_msg(linguistic_attr= linguistic_attr)\n",
    "text_template_generator = text_template_generator.from_file(linguistic_attr= linguistic_attr, root_dir=root_dir) # Load existing generations to avoid re-generation\n",
    "sql_to_text_templates = text_template_generator.generate_batch(sql_templates, verbose=True)\n",
    "text_template_generator.save(sql_to_text_templates, root_dir, overwrite=True)"
   ]
  },
  {
   "cell_type": "code",
   "execution_count": 17,
   "metadata": {},
   "outputs": [],
   "source": [
    "sql_to_text_templates_with_ids = {}\n",
    "for t, t_id in zip(sql_templates, sql_templates_with_ids):\n",
    "    sql_to_text_templates_with_ids[t_id] = sql_to_text_templates[t]"
   ]
  },
  {
   "cell_type": "code",
   "execution_count": 20,
   "metadata": {},
   "outputs": [
    {
     "name": "stdout",
     "output_type": "stream",
     "text": [
      "The number of generated SQL queries:  57\n",
      "The number of generated text queries:  171\n"
     ]
    }
   ],
   "source": [
    "# Step 3: Generate Evaluation Data (Text Queries and Answers)\n",
    "qa_generator = QADataGenerator(db_tool)\n",
    "all_answers_to_text_queries = qa_generator.generate(sql_to_text_templates_with_ids)\n",
    "qa_generator.print_query_stats(all_answers_to_text_queries)\n",
    "file_name = f\"{linguistic_attr}_with_ids.json\"\n",
    "qa_generator.save(all_answers_to_text_queries, root_dir, file_name, overwrite=True)"
   ]
  },
  {
   "cell_type": "code",
   "execution_count": 6,
   "metadata": {},
   "outputs": [
    {
     "data": {
      "text/plain": [
       "['How many companies are headquartered in the US?',\n",
       " 'List the names of companies by ascending number of sales.',\n",
       " 'What are the headquarters and industries of all companies?',\n",
       " 'Show the names of companies in the banking or retailing industry?',\n",
       " 'What is the maximum and minimum market value of companies?',\n",
       " 'What is the headquarter of the company with the largest sales?',\n",
       " 'Show the different headquarters and number of companies at each headquarter.',\n",
       " 'Show the most common headquarter for companies.',\n",
       " 'Show the headquarters that have at least two companies.',\n",
       " 'Show the headquarters that have both companies in banking industry and companies in oil and gas industry.',\n",
       " 'Show the names of companies and of employees.',\n",
       " 'Show names of companies and that of employees in descending order of number of years working for that employee.',\n",
       " 'Show the names of employees that work for companies with sales bigger than 200.',\n",
       " 'Show the names of companies and the number of employees they have',\n",
       " 'List the names of people that are not employed by any company',\n",
       " 'list the names of the companies with more than 200 sales in the descending order of sales and profits.']"
      ]
     },
     "execution_count": 6,
     "metadata": {},
     "output_type": "execute_result"
    }
   ],
   "source": [
    "# How About Using Existing Queries?\n",
    "# import json\n",
    "# file_name = \"spider-database/database/company_employee/company_employee.json\"\n",
    "# with open(f\"{file_name}\", 'r') as f:\n",
    "#     filtered_data = json.load(f)\n",
    "# questions = [example['question'] for example in filtered_data]\n",
    "# sql_queries = [example['query'] for example in filtered_data]\n",
    "# questions"
   ]
  }
 ],
 "metadata": {
  "kernelspec": {
   "display_name": "langchain116",
   "language": "python",
   "name": "python3"
  },
  "language_info": {
   "codemirror_mode": {
    "name": "ipython",
    "version": 3
   },
   "file_extension": ".py",
   "mimetype": "text/x-python",
   "name": "python",
   "nbconvert_exporter": "python",
   "pygments_lexer": "ipython3",
   "version": "3.12.2"
  }
 },
 "nbformat": 4,
 "nbformat_minor": 2
}
