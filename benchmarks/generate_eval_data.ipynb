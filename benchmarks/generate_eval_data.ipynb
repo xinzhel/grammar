{
 "cells": [
  {
   "cell_type": "code",
   "execution_count": 31,
   "metadata": {},
   "outputs": [],
   "source": [
    "import sys\n",
    "sys.path.append('..')\n",
    "from grammar.db_tool import DBTool\n",
    "from grammar.llm import AnyOpenAILLM\n",
    "from grammar.sql_template_generator import SQLTemplateGenerator\n",
    "from grammar.text_template_generator import TextTemplateGenerator\n",
    "from grammar.qa_generator import QADataGenerator\n",
    "\n",
    "\n",
    "llm = AnyOpenAILLM(model_name = \"gpt4-short\")  \n",
    "database_name = 'spider'\n",
    "connection_string = f'sqlite:///{database_name}/rel_database/company_employee.sqlite'\n",
    "db_tool = DBTool(connection_string)\n",
    "root_dir = \".\""
   ]
  },
  {
   "cell_type": "code",
   "execution_count": 32,
   "metadata": {},
   "outputs": [
    {
     "name": "stdout",
     "output_type": "stream",
     "text": [
      "The 2 generations for the input `k` exist in `cache_generations`! No need to generate more.\n",
      "The 2 generations for the input `k` exist in `cache_generations`! No need to generate more.\n",
      "The 1 generations for the input `k` exist in `cache_generations`! No need to generate more.\n"
     ]
    }
   ],
   "source": [
    "# Step 1: Generate SQL Query Templates\n",
    "file_path = \"spider/SQLTemplateGenerator/sql_templates.json\"\n",
    "sql_template_generator = SQLTemplateGenerator.from_file(file_path, sql_connection=connection_string, llm=llm)\n",
    "entities_to_sql_templates = sql_template_generator.generate_batch([('company',), ('people',), ('company', 'people')], override=False, verbose=True)\n",
    "sql_templates = [tpl for entity, tpls in entities_to_sql_templates.items() for tpl in tpls]\n",
    "# sql_template_generator.save(file_path=file_path)"
   ]
  },
  {
   "cell_type": "code",
   "execution_count": 33,
   "metadata": {},
   "outputs": [
    {
     "name": "stdout",
     "output_type": "stream",
     "text": [
      "The 10 generations for the input `k` exist in `cache_generations`! No need to generate more.\n",
      "The 10 generations for the input `k` exist in `cache_generations`! No need to generate more.\n",
      "The 10 generations for the input `k` exist in `cache_generations`! No need to generate more.\n",
      "The 10 generations for the input `k` exist in `cache_generations`! No need to generate more.\n",
      "The 10 generations for the input `k` exist in `cache_generations`! No need to generate more.\n"
     ]
    }
   ],
   "source": [
    "# Step 2: Generate Text Query Templates\n",
    "linguistic_attr = \"short\"\n",
    "file_path = f'spider/TextTemplateGenerator/{linguistic_attr}.json'\n",
    "text_template_generator = TextTemplateGenerator.from_file(file_path=file_path, verbalize_attrs=linguistic_attr, llm=llm) # Load existing generations to avoid re-generation\n",
    "sql_to_text_templates = text_template_generator.generate_batch(sql_templates, verbose=True, num_generations=10, override=False)\n",
    "# text_template_generator.save(file_path=file_path, override=True)"
   ]
  },
  {
   "cell_type": "code",
   "execution_count": 34,
   "metadata": {},
   "outputs": [
    {
     "name": "stdout",
     "output_type": "stream",
     "text": [
      "The 2 generations for the input `k` exist in `cache_generations`! No need to generate more.\n",
      "The 2 generations for the input `k` exist in `cache_generations`! No need to generate more.\n",
      "The 1 generations for the input `k` exist in `cache_generations`! No need to generate more.\n"
     ]
    }
   ],
   "source": [
    "# This cell generates sql with IDs for evaluating the effectiveness of our framework\n",
    "# should not be used when you apply the framework in real world\n",
    "sql_template_with_id_generator = SQLTemplateGenerator.from_file(\"spider/SQLTemplateGenerator/sql_templates_with_ids.json\", sql_connection=connection_string, llm=llm)\n",
    "entities_to_sql_templates_with_ids = sql_template_with_id_generator.generate_batch([('company',), ('people',), ('company', 'people')], override=False, verbose=True)\n",
    "sql_templates_with_ids = [tpl for entity, tpls in entities_to_sql_templates_with_ids.items() for tpl in tpls]\n",
    "sql_to_text_templates_with_ids = {}\n",
    "for t, t_id in zip(sql_templates, sql_templates_with_ids):\n",
    "    sql_to_text_templates_with_ids[t_id] = sql_to_text_templates[t]\n"
   ]
  },
  {
   "cell_type": "code",
   "execution_count": 35,
   "metadata": {},
   "outputs": [
    {
     "name": "stdout",
     "output_type": "stream",
     "text": [
      "The number of generated SQL queries:  57\n",
      "The number of generated text queries:  570\n"
     ]
    }
   ],
   "source": [
    "# Step 3: Generate Evaluation Data (Text Queries and Answers)\n",
    "qa_generator = QADataGenerator(db_tool)\n",
    "all_answers_to_text_queries = qa_generator.generate(sql_to_text_templates_with_ids)\n",
    "qa_generator.print_query_stats(all_answers_to_text_queries)\n",
    "file_name = f\"{linguistic_attr}_with_ids.json\"\n",
    "qa_generator.save(all_answers_to_text_queries, database_name, file_name, overwrite=True)"
   ]
  },
  {
   "cell_type": "code",
   "execution_count": 25,
   "metadata": {},
   "outputs": [],
   "source": [
    "# How About Using Existing Queries?\n",
    "# import json\n",
    "# file_name = \"spider-database/database/company_employee/company_employee.json\"\n",
    "# with open(f\"{file_name}\", 'r') as f:\n",
    "#     filtered_data = json.load(f)\n",
    "# questions = [example['question'] for example in filtered_data]\n",
    "# sql_queries = [example['query'] for example in filtered_data]\n",
    "# questions"
   ]
  }
 ],
 "metadata": {
  "kernelspec": {
   "display_name": "langchain116",
   "language": "python",
   "name": "python3"
  },
  "language_info": {
   "codemirror_mode": {
    "name": "ipython",
    "version": 3
   },
   "file_extension": ".py",
   "mimetype": "text/x-python",
   "name": "python",
   "nbconvert_exporter": "python",
   "pygments_lexer": "ipython3",
   "version": "3.12.2"
  }
 },
 "nbformat": 4,
 "nbformat_minor": 2
}
