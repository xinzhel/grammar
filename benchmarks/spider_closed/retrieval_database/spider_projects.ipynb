{
 "cells": [
  {
   "cell_type": "code",
   "execution_count": 3,
   "metadata": {},
   "outputs": [
    {
     "name": "stdout",
     "output_type": "stream",
     "text": [
      "Table: company\n",
      "\t Column: Company_ID (REAL)\n",
      "\t Column: Name (TEXT)\n",
      "\t Column: Headquarters (TEXT)\n",
      "\t Column: Industry (TEXT)\n",
      "\t Column: Sales_in_Billion (REAL)\n",
      "\t Column: Profits_in_Billion (REAL)\n",
      "\t Column: Assets_in_Billion (REAL)\n",
      "\t Column: Market_Value_in_Billion (REAL)\n",
      "Table: people\n",
      "\t Column: People_ID (INTEGER)\n",
      "\t Column: Age (INTEGER)\n",
      "\t Column: Name (TEXT)\n",
      "\t Column: Nationality (TEXT)\n",
      "\t Column: Graduation_College (TEXT)\n",
      "Table: employment\n",
      "\t Column: Company_ID (INTEGER)\n",
      "\t Column: People_ID (INTEGER)\n",
      "\t Column: Year_working (INTEGER)\n",
      "\n"
     ]
    }
   ],
   "source": [
    "import sys\n",
    "import json\n",
    "sys.path.append('../../..')\n",
    "from grammar.db_tool import DBTool\n",
    "from grammar.llm import gpt4_llm\n",
    "\n",
    "connection_string = 'sqlite:///../rel_database/company_employee.sqlite'\n",
    "db_tool = DBTool(connection_string)\n",
    "schema = db_tool.stringify_schema()\n",
    "print(schema)"
   ]
  },
  {
   "cell_type": "markdown",
   "metadata": {},
   "source": [
    "## Generate Template-based Profile"
   ]
  },
  {
   "cell_type": "code",
   "execution_count": 4,
   "metadata": {},
   "outputs": [
    {
     "name": "stdout",
     "output_type": "stream",
     "text": [
      "Company Profile\n",
      "    **Name**:EnergySphere\n",
      "    **Headquarter**: USA\n",
      "    **Industry**: Oil and gas\n",
      "    **Sales in Billion**: 433.5\n",
      "    **Profit in Billion**: 41.1\n",
      "    **Asset in Billion**: 331.1\n",
      "    **Market Value in Billion**: 407.4\n",
      "Employee Profile\n",
      "    **Name**: 31\n",
      "    **Age**: Darryl Kennedy\n",
      "    **Nationality**: United States\n",
      "    **Graduation College**: Oklahoma\n",
      "    **Employer**: Phoenix Petro\n",
      "    **Year working in Phoenix Petro**: 1\n",
      "\n",
      "   Below is A Brief of the Employer:\n",
      "\n",
      "    **Name**:Phoenix Petro\n",
      "    **Headquarter**: China\n",
      "    **Industry**: Oil and gas\n",
      "    **Sales in Billion**: 310.1\n",
      "    **Profit in Billion**: 20.6\n",
      "    **Asset in Billion**: 304.7\n",
      "    **Market Value in Billion**: 294.7\n"
     ]
    }
   ],
   "source": [
    "# Company Profile\n",
    "companies = db_tool.query('SELECT * from Company')\n",
    "company_profiles: list = []\n",
    "employee_profiles: list[list] = []\n",
    "for company_id, company_name, headquarter, industry, sales, profits, assets, market_value in eval(companies):\n",
    "    # print(f'Company ID: {company_id}')\n",
    "    company_profile = f\"\"\"\n",
    "    **Name**:{company_name}\n",
    "    **Headquarter**: {headquarter}\n",
    "    **Industry**: {industry}\n",
    "    **Sales in Billion**: {sales}\n",
    "    **Profit in Billion**: {profits}\n",
    "    **Asset in Billion**: {assets}\n",
    "    **Market Value in Billion**: {market_value}\"\"\"\n",
    "    company_profiles.append('Company Profile'+company_profile)\n",
    "    \n",
    "    \n",
    "    # Employee Profile in the company\n",
    "    # employees = db_tool.query(f'SELECT * \\\n",
    "    #     FROM Employment e JOIN People p ON e.People_ID = p.People_ID \\\n",
    "    #     WHERE e.Company_ID = {str(int(company_id))};')\n",
    "    employees = db_tool.query(f\"SELECT p.People_ID, p.Name, p.Age, p.Nationality, p.Graduation_College, e.Year_working \\\n",
    "        FROM company c JOIN employment e ON c.Company_ID = e.Company_ID \\\n",
    "        JOIN people p ON e.People_ID = p.People_ID \\\n",
    "        WHERE c.Name = '{company_name}';\")\n",
    "    \n",
    "    employee_profiles_one = []\n",
    "    if employees == '' or employees is None:\n",
    "        pass\n",
    "        # print(f'{company_name}: No employee found')\n",
    "    else:\n",
    "        \n",
    "        # print(f'{company_name}: {employees}')\n",
    "        \n",
    "        for employee_id, age, name, nationality, graduation_college, years in eval(employees):\n",
    "            employee_profile = f\"\"\"Employee Profile\n",
    "    **Name**: {name}\n",
    "    **Age**: {age}\n",
    "    **Nationality**: {nationality}\n",
    "    **Graduation College**: {graduation_college}\n",
    "    **Employer**: {company_name}\n",
    "    **Year working in {company_name}**: {years}\"\"\"  + '\\n\\n   Below is A Brief of the Employer:\\n' + company_profile\n",
    "            employee_profiles_one.append(employee_profile)\n",
    "            \n",
    "    employee_profiles.append(employee_profiles_one)\n",
    "\n",
    "print(company_profiles[0])\n",
    "print(employee_profiles[6][0])"
   ]
  },
  {
   "cell_type": "markdown",
   "metadata": {},
   "source": [
    "## Generate Profile Documents"
   ]
  },
  {
   "cell_type": "code",
   "execution_count": 5,
   "metadata": {},
   "outputs": [],
   "source": [
    "# Company Profiles\n",
    "company_profiles_docs = {}\n",
    "for i in range(len(company_profiles)):\n",
    "\n",
    "    prompt = f\"\"\"Please create a Wikipedia-style page for a company with the following profile. \n",
    "    The generated text should naturally integrate the provided details throughout the content rather than listing them in bullet points.\n",
    "    The description should be between 200 to 400 words. \n",
    "    \\n{company_profiles[i]}\"\"\"\n",
    "    document = gpt4_llm(prompt)\n",
    "    company_profiles_docs[str(i+1)] = document\n",
    "\n",
    "# save company profiles documents\n",
    "save_path = 'company_documents.json'\n",
    "with open(save_path, 'w') as f:\n",
    "    json.dump(company_profiles_docs, f)\n",
    "# read company profiles documents\n",
    "with open(save_path, 'r') as f:\n",
    "    company_profiles_docs = json.load(f)\n",
    "\n"
   ]
  },
  {
   "cell_type": "code",
   "execution_count": 32,
   "metadata": {},
   "outputs": [
    {
     "name": "stdout",
     "output_type": "stream",
     "text": [
      "Employee Profile\n",
      "    **Name**: 31\n",
      "    **Age**: Darryl Kennedy\n",
      "    **Nationality**: United States\n",
      "    **Graduation College**: Oklahoma\n",
      "    **Employer**: PetroChina\n",
      "    **Year working in PetroChina**: 1\n",
      "\n",
      "   Below is A Brief of the Employer:\n",
      "\n",
      "    **Name**:PetroChina\n",
      "    **Headquarter**: China\n",
      "    **Industry**: Oil and gas\n",
      "    **Sales in Billion**: 310.1\n",
      "    **Profit in Billion**: 20.6\n",
      "    **Asset in Billion**: 304.7\n",
      "    **Market Value in Billion**: 294.7\n",
      "Company 1\n",
      "Company 2\n",
      "Company 3\n",
      "Company 4\n",
      "Company 5\n",
      "Company 6\n",
      "Company 7\n",
      "Employee 1\n",
      "Company 8\n",
      "Company 9\n",
      "Company 10\n",
      "Company 11\n",
      "Employee 1\n",
      "Company 12\n",
      "Company 13\n",
      "Employee 1\n",
      "Company 14\n",
      "Company 15\n",
      "Employee 1\n",
      "Company 16\n",
      "Company 17\n",
      "Employee 1\n",
      "Company 18\n",
      "Company 19\n"
     ]
    }
   ],
   "source": [
    "employee_profiles_docs = {str(i+1): [] for i in range(len(company_profiles))}\n",
    "print(employee_profiles[6][0])\n",
    "for i in range(len(company_profiles)):\n",
    "    print(f'Company {i+1}')\n",
    "    for j in range(len(employee_profiles[i])):\n",
    "        print(f'Employee {j+1}')\n",
    "        prompt = f\"\"\"Please create a resume for an employee with the following information. \n",
    "        The generated text should naturally integrate all the provided facts and details throughout the content rather than listing them in bullet points.\n",
    "        The description should be between 200 to 400 words. \n",
    "        \\n{employee_profiles[i][j]}\"\"\"\n",
    "        document = gpt4_llm(prompt)\n",
    "        employee_profiles_docs[str(i+1)].append(document)"
   ]
  },
  {
   "cell_type": "code",
   "execution_count": 33,
   "metadata": {},
   "outputs": [],
   "source": [
    "# save employee profiles documents\n",
    "save_path = '../spider-database/employee_documents.json'\n",
    "with open(save_path, 'w') as f:\n",
    "    json.dump(employee_profiles_docs, f)\n",
    "# read employee profiles documents\n",
    "with open(save_path, 'r') as f:\n",
    "    employee_profiles_docs = json.load(f)"
   ]
  },
  {
   "cell_type": "code",
   "execution_count": null,
   "metadata": {},
   "outputs": [],
   "source": []
  }
 ],
 "metadata": {
  "kernelspec": {
   "display_name": "langchain116",
   "language": "python",
   "name": "python3"
  },
  "language_info": {
   "codemirror_mode": {
    "name": "ipython",
    "version": 3
   },
   "file_extension": ".py",
   "mimetype": "text/x-python",
   "name": "python",
   "nbconvert_exporter": "python",
   "pygments_lexer": "ipython3",
   "version": "3.12.2"
  }
 },
 "nbformat": 4,
 "nbformat_minor": 2
}
