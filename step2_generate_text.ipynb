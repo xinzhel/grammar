{
 "cells": [
  {
   "cell_type": "code",
   "execution_count": 11,
   "metadata": {},
   "outputs": [],
   "source": []
  },
  {
   "cell_type": "code",
   "execution_count": 9,
   "metadata": {},
   "outputs": [
    {
     "name": "stdout",
     "output_type": "stream",
     "text": [
      "0.0.323\n"
     ]
    },
    {
     "data": {
      "text/plain": [
       "{'Client': [\"SELECT Name FROM Client WHERE Industry = '[Client.Industry]';\",\n",
       "  \"SELECT Location FROM Client WHERE Name = '[Client.Name]';\",\n",
       "  \"SELECT Industry FROM Client WHERE Name = '[Client.Name]';\"],\n",
       " 'Employee': [\"SELECT JobTitle FROM Employee WHERE Name = '[Employee.Name]';\",\n",
       "  \"SELECT Department FROM Employee WHERE Name = '[Employee.Name]';\",\n",
       "  \"SELECT SupervisorOrManager FROM Employee WHERE Name = '[Employee.Name]';\"]}"
      ]
     },
     "execution_count": 9,
     "metadata": {},
     "output_type": "execute_result"
    }
   ],
   "source": [
    "from indo_eval.generate_text_templates import generate_texts_for_all_domains\n",
    "from indo_eval.utils import read_sql_templates_from_txt_files\n",
    "import json\n",
    "\n",
    "# Load SQL templates\n",
    "all_templates = read_sql_templates_from_txt_files()\n",
    "# remove key-value pairs where values are empty lists or lists with enmpty strings\n",
    "all_templates = {k: v for k, v in all_templates.items() if v and v != [''] }\n",
    "all_templates"
   ]
  },
  {
   "cell_type": "code",
   "execution_count": 11,
   "metadata": {},
   "outputs": [
    {
     "name": "stdout",
     "output_type": "stream",
     "text": [
      "SELECT Name FROM Client WHERE Industry = '[Client.Industry]';\n",
      "SELECT Location FROM Client WHERE Name = '[Client.Name]';\n",
      "SELECT Industry FROM Client WHERE Name = '[Client.Name]';\n",
      "SELECT JobTitle FROM Employee WHERE Name = '[Employee.Name]';\n",
      "SELECT Department FROM Employee WHERE Name = '[Employee.Name]';\n",
      "SELECT SupervisorOrManager FROM Employee WHERE Name = '[Employee.Name]';\n"
     ]
    }
   ],
   "source": [
    "linguistic_attr = \"short\"\n",
    "results = generate_texts_for_all_domains(all_templates, linguistic_attr)\n",
    "\n",
    "# save results to json file\n",
    "file_name = f'templates/text/{linguistic_attr}.json'\n",
    "with open(file_name, 'w') as fp:\n",
    "    json.dump(results, fp)\n"
   ]
  },
  {
   "cell_type": "code",
   "execution_count": null,
   "metadata": {},
   "outputs": [],
   "source": [
    "\n",
    "# read results from json file\n",
    "with open('templates/text/short_for_each_table.json', 'r') as fp:\n",
    "    short_results = json.load(fp)\n",
    "with open('templates/text/long_for_each_table.json', 'r') as fp:\n",
    "    long_results = json.load(fp)\n",
    "    \n",
    "def print_stat(results):\n",
    "    # results:  {table_name: {\"sql_template\": [text1, text2], ...}, ...}\n",
    "    total = 0\n",
    "    for table_name, sql_templates in results.items():\n",
    "        num_of_queries = 0\n",
    "        for sql_template, texts in sql_templates.items():\n",
    "            # print(f\"table: {table_name}, template: {sql_template}\")\n",
    "            num_of_queries += len(texts)\n",
    "        print(f\"The number of generated texts for {table_name}: \", num_of_queries)\n",
    "        # print(texts)\n",
    "        print(\"\\n\")\n",
    "        total += num_of_queries\n",
    "    print(f\"The total number of generated texts: {total}\")\n",
    "\n",
    "print_stat(short_results)"
   ]
  }
 ],
 "metadata": {
  "kernelspec": {
   "display_name": "langchain",
   "language": "python",
   "name": "python3"
  },
  "language_info": {
   "codemirror_mode": {
    "name": "ipython",
    "version": 3
   },
   "file_extension": ".py",
   "mimetype": "text/x-python",
   "name": "python",
   "nbconvert_exporter": "python",
   "pygments_lexer": "ipython3",
   "version": "3.11.4"
  }
 },
 "nbformat": 4,
 "nbformat_minor": 2
}
