{
 "cells": [
  {
   "cell_type": "code",
   "execution_count": 7,
   "metadata": {},
   "outputs": [
    {
     "name": "stdout",
     "output_type": "stream",
     "text": [
      "Number of SQL templates for each table:\n",
      "Project 5\n",
      "Total number of templates:  5\n"
     ]
    },
    {
     "data": {
      "text/plain": [
       "{'Project': {\"SELECT StartDate FROM Project WHERE Name = '[Project.Name]';\": ['\"The query is looking up the starting date for a particular project, and the name of that specific project is given as \\'[Project.Name]\\'. ',\n",
       "   '\"Let\\'s find out the date when the project named \\'[Project.Name]\\' was initiated according to the records held in our project database. ',\n",
       "   '\"In reference to our project database, we are interested in locating the details of when a certain project, identified as \\'[Project.Name]\\', officially commenced.\"'],\n",
       "  \"SELECT EndDate FROM Project WHERE Name = '[Project.Name]';\": [\"Let's see when the project with the name '[Project.Name]' is scheduled to end. \",\n",
       "   \"Can you provide me the completion date for the project that goes by the name '[Project.Name]'?\",\n",
       "   \"I need to find out when the project titled '[Project.Name]' is expected to end.\"],\n",
       "  \"SELECT Client FROM Project WHERE Name = '[Project.Name]';\": ['\"The task at hand entails looking for a client associated with a project. This specific project is recognized by its distinct name, \\'[Project.Name]\\'. ',\n",
       "   '\"We\\'re on a quest to identify the client who is linked to a particular project, which goes by the unique moniker of \\'[Project.Name]\\'. ',\n",
       "   '\"A search is in progress to find out which client is connected to a specific project that carries the distinctive identifier \\'[Project.Name]\\'.'],\n",
       "  \"SELECT ProjectDirector FROM Project WHERE Name = '[Project.Name]';\": ['\"Could you tell me who the Project Director is for the project named \\'[Project.Name]\\'?\"',\n",
       "   '\"Can you find out who is in charge as the Project Director for the specific project that holds the name \\'[Project.Name]\\'?\"',\n",
       "   '\"Would you mind finding out the name of the Project Director responsible for the project with the name \\'[Project.Name]\\'?\"'],\n",
       "  \"SELECT ProjectManager FROM Project WHERE Name = '[Project.Name]';\": ['\"We are looking for the project manager of a certain project. This specific project is identified by its name, which in our records appears as \\'[Project.Name]\\'.\"',\n",
       "   '   ',\n",
       "   '\"We are interested in determining who is the project manager of a project in our records that goes by the name of \\'[Project.Name]\\'.\"',\n",
       "   '   ',\n",
       "   '\"We aim to find out the project manager for a project which is registered under the name \\'[Project.Name]\\' in our database.\"']}}"
      ]
     },
     "execution_count": 7,
     "metadata": {},
     "output_type": "execute_result"
    }
   ],
   "source": [
    "from indo_eval.utils import read_templates\n",
    "from indo_eval.generate_eval_data import generate_eval_data\n",
    "import json\n",
    "\n",
    "# Read SQL Templates, Text Templates and Placeholders\n",
    "linguistic_attr = 'long'\n",
    "templates_all_entities, sql_templates_all_entities, placeholders_all_entities, text_templates_all_entities = read_templates(f\"templates/text/{linguistic_attr}.json\") \n",
    "with open(f\"templates/text/{linguistic_attr}.json\", \"r\", encoding=\"utf-8\") as f:\n",
    "    templates_all_entities = json.load(f)\n",
    "templates_all_entities\n",
    "# sql_templates \n",
    "# sql_templates_all_entities = { table: list(templates_all_entities[table].keys()) for table in templates_all_entities}\n",
    "\n"
   ]
  },
  {
   "cell_type": "code",
   "execution_count": 8,
   "metadata": {},
   "outputs": [
    {
     "name": "stdout",
     "output_type": "stream",
     "text": [
      "Table name:  Project\n",
      "The number of generated SQL queries for the table Project:  50\n",
      "The number of generated text queries for the table Project:  150\n"
     ]
    }
   ],
   "source": [
    "\n",
    "# Generate SQL Queries, Answers and Text Queries\n",
    "answers_to_text_queries_all_templates = generate_eval_data(sql_templates_all_entities, text_templates_all_entities, placeholders_all_entities)\n",
    "# Table name:  Project_select1\n",
    "# The number of generated SQL queries for the table Project_select1:  8\n",
    "# The number of generated text queries for the table Project_select1:  24\n",
    "# Table name:  Project_select2\n",
    "# The number of generated SQL queries for the table Project_select2:  4\n",
    "# The number of generated text queries for the table Project_select2:  12\n",
    "# Table name:  Employee_select1\n",
    "# The number of generated SQL queries for the table Employee_select1:  12\n",
    "# The number of generated text queries for the table Employee_select1:  36\n",
    "# Table name:  Company\n",
    "# The number of generated SQL queries for the table Company:  4\n",
    "# The number of generated text queries for the table Company:  12\n",
    "# Table name:  Employee_select2\n",
    "# The number of generated SQL queries for the table Employee_select2:  3\n",
    "# The number of generated text queries for the table Employee_select2:  9\n",
    "\n",
    "\n"
   ]
  },
  {
   "cell_type": "code",
   "execution_count": 9,
   "metadata": {},
   "outputs": [],
   "source": [
    "# save answers_to_text_queries_all_templates\n",
    "with open(f\"eval_data/answers_to_text_queries_all_{linguistic_attr}_templates.json\", \"w\") as f:\n",
    "    json.dump(answers_to_text_queries_all_templates, f, indent=4)"
   ]
  },
  {
   "cell_type": "code",
   "execution_count": null,
   "metadata": {},
   "outputs": [],
   "source": []
  },
  {
   "cell_type": "code",
   "execution_count": null,
   "metadata": {},
   "outputs": [],
   "source": []
  }
 ],
 "metadata": {
  "kernelspec": {
   "display_name": "langchain",
   "language": "python",
   "name": "python3"
  },
  "language_info": {
   "codemirror_mode": {
    "name": "ipython",
    "version": 3
   },
   "file_extension": ".py",
   "mimetype": "text/x-python",
   "name": "python",
   "nbconvert_exporter": "python",
   "pygments_lexer": "ipython3",
   "version": "3.11.4"
  }
 },
 "nbformat": 4,
 "nbformat_minor": 2
}
