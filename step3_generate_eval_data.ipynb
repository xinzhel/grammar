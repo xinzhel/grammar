{
 "cells": [
  {
   "cell_type": "code",
   "execution_count": 1,
   "metadata": {},
   "outputs": [
    {
     "name": "stdout",
     "output_type": "stream",
     "text": [
      "Number of SQL templates for each table:\n",
      "Project 5\n",
      "Client 2\n",
      "Employee 3\n",
      "Total number of templates:  10\n"
     ]
    },
    {
     "data": {
      "text/plain": [
       "{'Project': {\"SELECT StartDate FROM Project WHERE Name = '[Project.Name]';\": [\"Find the start date of the project named '[Project.Name]'.\",\n",
       "   \"Look up when the project named '[Project.Name]' began.\",\n",
       "   \"Inquire the commencement date for the project '[Project.Name]'.\"],\n",
       "  \"SELECT EndDate FROM Project WHERE Name = '[Project.Name]';\": [\"Look for the finish date of the project titled '[Project.Name]'.\",\n",
       "   \"Obtain the end date for the project with the name '[Project.Name]'.\",\n",
       "   \"Find out when the project named '[Project.Name]' is scheduled to end.\"],\n",
       "  \"SELECT Client FROM Project WHERE Name = '[Project.Name]';\": [\"Find the client of a project named '[Project.Name]'.\",\n",
       "   \"Who is the client for the project named '[Project.Name]'?\",\n",
       "   \"Look for the client associated with the project '[Project.Name]'.\"],\n",
       "  \"SELECT ProjectDirector FROM Project WHERE Name = '[Project.Name]';\": [\"Find the project director of the project named '[Project.Name]'.\",\n",
       "   \"Look up the director for the project with the name '[Project.Name]'.\",\n",
       "   \"Get the project director for the project called '[Project.Name]'.\"],\n",
       "  \"SELECT ProjectManager FROM Project WHERE Name = '[Project.Name]';\": [\"Identify the project manager of the project with the name '[Project.Name]'.\",\n",
       "   \"Who is the project manager for the project named '[Project.Name]'?\",\n",
       "   \"Find out the project manager associated with the project called '[Project.Name]'.\"]},\n",
       " 'Client': {\"SELECT Location FROM Client WHERE Name = '[Client.Name]';\": [\"Find the location for the client named '[Client.Name]'.\",\n",
       "   \"Retrieve the location linked to the client called '[Client.Name]'.\",\n",
       "   \"Get the location associated with the client '[Client.Name]'.\"],\n",
       "  \"SELECT Industry FROM Client WHERE Name = '[Client.Name]';\": [\"Fetch the field 'industry' of the entity named '[Client.Name]'.\",\n",
       "   \"Find the industry type related to '[Client.Name]'.\",\n",
       "   \"Check the industry category corresponding to '[Client.Name]'.\"]},\n",
       " 'Employee': {\"SELECT JobTitle FROM Employee WHERE Name = '[Employee.Name]';\": ['\"Find the job title of the employee named \\'[Employee.Name]\\'.\"',\n",
       "   '\"Retrieve the position or job title for \\'[Employee.Name]\\'.\"',\n",
       "   '\"Search for the job title associated with the employee named \\'[Employee.Name]\\'.\"'],\n",
       "  \"SELECT Department FROM Employee WHERE Name = '[Employee.Name]';\": [\"Obtain the department of '[Employee.Name]'.\",\n",
       "   \"Fetch the department where the employee's name is '[Employee.Name]'.\",\n",
       "   \"Get the department associated with '[Employee.Name]'.\"],\n",
       "  \"SELECT SupervisorOrManager FROM Employee WHERE Name = '[Employee.Name]';\": [\"Get the supervisor or manager for the employee named '[Employee.Name]'.\",\n",
       "   \"Find out who is the supervisor or manager of an employee with the name '[Employee.Name]'.\",\n",
       "   \"Retrieve the supervisor or manager associated with the employee named '[Employee.Name]'.\"]}}"
      ]
     },
     "execution_count": 1,
     "metadata": {},
     "output_type": "execute_result"
    }
   ],
   "source": [
    "from indo_eval.utils import read_templates\n",
    "from indo_eval.generate_eval_data import generate_eval_data\n",
    "import json\n",
    "\n",
    "# Read SQL Templates, Text Templates and Placeholders\n",
    "linguistic_attr = 'short'\n",
    "templates_all_entities, sql_templates_all_entities, placeholders_all_entities, text_templates_all_entities = read_templates(f\"templates/text/{linguistic_attr}.json\") \n",
    "with open(f\"templates/text/{linguistic_attr}.json\", \"r\", encoding=\"utf-8\") as f:\n",
    "    templates_all_entities = json.load(f)\n",
    "templates_all_entities\n",
    "# sql_templates \n",
    "# sql_templates_all_entities = { table: list(templates_all_entities[table].keys()) for table in templates_all_entities}\n",
    "\n"
   ]
  },
  {
   "cell_type": "code",
   "execution_count": 2,
   "metadata": {},
   "outputs": [
    {
     "name": "stdout",
     "output_type": "stream",
     "text": [
      "Table name:  Project\n",
      "The number of generated SQL queries for the table Project:  50\n",
      "The number of generated text queries for the table Project:  150\n",
      "Table name:  Client\n",
      "The number of generated SQL queries for the table Client:  20\n",
      "The number of generated text queries for the table Client:  60\n",
      "Table name:  Employee\n",
      "The number of generated SQL queries for the table Employee:  87\n",
      "The number of generated text queries for the table Employee:  261\n"
     ]
    }
   ],
   "source": [
    "\n",
    "# Generate SQL Queries, Answers and Text Queries\n",
    "answers_to_text_queries_all_templates = generate_eval_data(sql_templates_all_entities, text_templates_all_entities, placeholders_all_entities)\n",
    "# Table name:  Project_select1\n",
    "# The number of generated SQL queries for the table Project_select1:  8\n",
    "# The number of generated text queries for the table Project_select1:  24\n",
    "# Table name:  Project_select2\n",
    "# The number of generated SQL queries for the table Project_select2:  4\n",
    "# The number of generated text queries for the table Project_select2:  12\n",
    "# Table name:  Employee_select1\n",
    "# The number of generated SQL queries for the table Employee_select1:  12\n",
    "# The number of generated text queries for the table Employee_select1:  36\n",
    "# Table name:  Company\n",
    "# The number of generated SQL queries for the table Company:  4\n",
    "# The number of generated text queries for the table Company:  12\n",
    "# Table name:  Employee_select2\n",
    "# The number of generated SQL queries for the table Employee_select2:  3\n",
    "# The number of generated text queries for the table Employee_select2:  9\n",
    "\n",
    "\n"
   ]
  },
  {
   "cell_type": "code",
   "execution_count": 3,
   "metadata": {},
   "outputs": [],
   "source": [
    "# save answers_to_text_queries_all_templates\n",
    "with open(f\"eval_data/answers_to_text_queries_all_{linguistic_attr}_templates.json\", \"w\") as f:\n",
    "    json.dump(answers_to_text_queries_all_templates, f, indent=4)"
   ]
  },
  {
   "cell_type": "code",
   "execution_count": null,
   "metadata": {},
   "outputs": [],
   "source": []
  },
  {
   "cell_type": "code",
   "execution_count": null,
   "metadata": {},
   "outputs": [],
   "source": []
  }
 ],
 "metadata": {
  "kernelspec": {
   "display_name": "langchain",
   "language": "python",
   "name": "python3"
  },
  "language_info": {
   "codemirror_mode": {
    "name": "ipython",
    "version": 3
   },
   "file_extension": ".py",
   "mimetype": "text/x-python",
   "name": "python",
   "nbconvert_exporter": "python",
   "pygments_lexer": "ipython3",
   "version": "3.11.4"
  }
 },
 "nbformat": 4,
 "nbformat_minor": 2
}
