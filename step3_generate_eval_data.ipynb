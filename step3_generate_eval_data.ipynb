{
 "cells": [
  {
   "cell_type": "code",
   "execution_count": 15,
   "metadata": {},
   "outputs": [
    {
     "name": "stdout",
     "output_type": "stream",
     "text": [
      "Number of SQL templates for each table:\n",
      "Project 5\n",
      "Client 2\n",
      "Employee 3\n",
      "Total number of templates:  10\n"
     ]
    },
    {
     "data": {
      "text/plain": [
       "{'Project': {\"SELECT StartDate FROM Project WHERE Name = '[Project.Name]';\": ['\"The query is looking up the starting date for a particular project, and the name of that specific project is given as \\'[Project.Name]\\'. ',\n",
       "   '\"Let\\'s find out the date when the project named \\'[Project.Name]\\' was initiated according to the records held in our project database. ',\n",
       "   '\"In reference to our project database, we are interested in locating the details of when a certain project, identified as \\'[Project.Name]\\', officially commenced.\"'],\n",
       "  \"SELECT EndDate FROM Project WHERE Name = '[Project.Name]';\": [\"Let's see when the project with the name '[Project.Name]' is scheduled to end. \",\n",
       "   \"Can you provide me the completion date for the project that goes by the name '[Project.Name]'?\",\n",
       "   \"I need to find out when the project titled '[Project.Name]' is expected to end.\"],\n",
       "  \"SELECT Client FROM Project WHERE Name = '[Project.Name]';\": ['\"The task at hand entails looking for a client associated with a project. This specific project is recognized by its distinct name, \\'[Project.Name]\\'. ',\n",
       "   '\"We\\'re on a quest to identify the client who is linked to a particular project, which goes by the unique moniker of \\'[Project.Name]\\'. ',\n",
       "   '\"A search is in progress to find out which client is connected to a specific project that carries the distinctive identifier \\'[Project.Name]\\'.'],\n",
       "  \"SELECT ProjectDirector FROM Project WHERE Name = '[Project.Name]';\": ['\"Could you tell me who the Project Director is for the project named \\'[Project.Name]\\'?\"',\n",
       "   '\"Can you find out who is in charge as the Project Director for the specific project that holds the name \\'[Project.Name]\\'?\"',\n",
       "   '\"Would you mind finding out the name of the Project Director responsible for the project with the name \\'[Project.Name]\\'?\"'],\n",
       "  \"SELECT ProjectManager FROM Project WHERE Name = '[Project.Name]';\": ['\"We are looking for the project manager of a certain project. This specific project is identified by its name, which in our records appears as \\'[Project.Name]\\'.\"',\n",
       "   '   ',\n",
       "   '\"We are interested in determining who is the project manager of a project in our records that goes by the name of \\'[Project.Name]\\'.\"',\n",
       "   '   ',\n",
       "   '\"We aim to find out the project manager for a project which is registered under the name \\'[Project.Name]\\' in our database.\"']},\n",
       " 'Client': {\"SELECT Location FROM Client WHERE Name = '[Client.Name]';\": ['\"Please fetch the address corresponding to the client whose name matches with the client name in our system, specifically \\'[Client.Name]\\'.\"',\n",
       "   '        ',\n",
       "   '\"We are looking for the geographical location in our records, for a client by the name of \\'[Client.Name]\\', could you retrieve it for us?\"',\n",
       "   '\"Could you please find and give us the specific location from our client database where the person\\'s name aligns with this particular client name \\'[Client.Name]\\'?\"'],\n",
       "  \"SELECT Industry FROM Client WHERE Name = '[Client.Name]';\": ['\"Could you help me find the industry for the client whose name is \\'[Client.Name]\\'?\"',\n",
       "   '\"Let\\'s identify the business sector or industry associated with our client known as \\'[Client.Name]\\'.\"',\n",
       "   '\"We need to scout out and categorize the industry that our client, \\'[Client.Name]\\' operates in.\"']},\n",
       " 'Employee': {\"SELECT JobTitle FROM Employee WHERE Name = '[Employee.Name]';\": ['\"Please search in the \\'Employee\\' records and retrieve the job title of the person whose name matches with \\'[Employee.Name]\\'.\"',\n",
       "   '  ',\n",
       "   '\"Could you kindly look into the details of our employees and extract the job title of the individual who is known by the name \\'[Employee.Name]\\'?\"',\n",
       "   '\"In our company\\'s employee database, we need to find out the job position held by the individual known as \\'[Employee.Name]\\'. Please find and provide this information.\"'],\n",
       "  \"SELECT Department FROM Employee WHERE Name = '[Employee.Name]';\": ['\"The system is looking for information about the department where the employee named [Employee.Name] is working, as per the records in the \\'Employee\\' database.\"',\n",
       "   ' ',\n",
       "   '\"In an effort to determine the departmental affiliation of the employee with the name [Employee.Name], the system is querying the \\'Employee\\' database.\"',\n",
       "   '\"The database inquiry is meant to determine the department in which an employee by the name of [Employee.Name] is situated, as per the details maintained in the \\'Employee\\' record.\"'],\n",
       "  \"SELECT SupervisorOrManager FROM Employee WHERE Name = '[Employee.Name]';\": ['\"In the workplace, we are querying to find out who is the supervisor or manager of the employee whose name is mentioned as \\'[Employee.Name]\\'.  ',\n",
       "   '\"To find out who is responsible for employee guidance and supervision, we are seeking the name of the supervisor or manager for the employee known as \\'[Employee.Name]\\'.  ',\n",
       "   '\"In the context of the corporate structure, our search is directed towards identifying the supervisor or manager of the employee designated as \\'[Employee.Name]\\'.']}}"
      ]
     },
     "execution_count": 15,
     "metadata": {},
     "output_type": "execute_result"
    }
   ],
   "source": [
    "from indo_eval.utils import read_templates\n",
    "from indo_eval.generate_eval_data import generate_eval_data\n",
    "import json\n",
    "\n",
    "# Read SQL Templates, Text Templates and Placeholders\n",
    "linguistic_attr = 'long'\n",
    "templates_all_entities, sql_templates_all_entities, placeholders_all_entities, text_templates_all_entities = read_templates(f\"templates/text/{linguistic_attr}.json\") \n",
    "with open(f\"templates/text/{linguistic_attr}.json\", \"r\", encoding=\"utf-8\") as f:\n",
    "    templates_all_entities = json.load(f)\n",
    "templates_all_entities\n",
    "# sql_templates \n",
    "# sql_templates_all_entities = { table: list(templates_all_entities[table].keys()) for table in templates_all_entities}\n",
    "\n"
   ]
  },
  {
   "cell_type": "code",
   "execution_count": 16,
   "metadata": {},
   "outputs": [
    {
     "name": "stdout",
     "output_type": "stream",
     "text": [
      "Table name:  Project\n",
      "The number of generated SQL queries for the table Project:  50\n",
      "The number of generated text queries for the table Project:  150\n",
      "Table name:  Client\n",
      "The number of generated SQL queries for the table Client:  20\n",
      "The number of generated text queries for the table Client:  60\n",
      "Table name:  Employee\n",
      "The number of generated SQL queries for the table Employee:  87\n",
      "The number of generated text queries for the table Employee:  261\n"
     ]
    }
   ],
   "source": [
    "\n",
    "# Generate SQL Queries, Answers and Text Queries\n",
    "answers_to_text_queries_all_templates = generate_eval_data(sql_templates_all_entities, text_templates_all_entities, placeholders_all_entities)\n",
    "# Table name:  Project_select1\n",
    "# The number of generated SQL queries for the table Project_select1:  8\n",
    "# The number of generated text queries for the table Project_select1:  24\n",
    "# Table name:  Project_select2\n",
    "# The number of generated SQL queries for the table Project_select2:  4\n",
    "# The number of generated text queries for the table Project_select2:  12\n",
    "# Table name:  Employee_select1\n",
    "# The number of generated SQL queries for the table Employee_select1:  12\n",
    "# The number of generated text queries for the table Employee_select1:  36\n",
    "# Table name:  Company\n",
    "# The number of generated SQL queries for the table Company:  4\n",
    "# The number of generated text queries for the table Company:  12\n",
    "# Table name:  Employee_select2\n",
    "# The number of generated SQL queries for the table Employee_select2:  3\n",
    "# The number of generated text queries for the table Employee_select2:  9\n",
    "\n",
    "\n"
   ]
  },
  {
   "cell_type": "code",
   "execution_count": 17,
   "metadata": {},
   "outputs": [],
   "source": [
    "# save answers_to_text_queries_all_templates\n",
    "with open(f\"eval_data/answers_to_text_queries_all_{linguistic_attr}_templates.json\", \"w\") as f:\n",
    "    json.dump(answers_to_text_queries_all_templates, f, indent=4)"
   ]
  },
  {
   "cell_type": "code",
   "execution_count": null,
   "metadata": {},
   "outputs": [],
   "source": []
  },
  {
   "cell_type": "code",
   "execution_count": null,
   "metadata": {},
   "outputs": [],
   "source": []
  }
 ],
 "metadata": {
  "kernelspec": {
   "display_name": "langchain",
   "language": "python",
   "name": "python3"
  },
  "language_info": {
   "codemirror_mode": {
    "name": "ipython",
    "version": 3
   },
   "file_extension": ".py",
   "mimetype": "text/x-python",
   "name": "python",
   "nbconvert_exporter": "python",
   "pygments_lexer": "ipython3",
   "version": "3.11.4"
  }
 },
 "nbformat": 4,
 "nbformat_minor": 2
}
