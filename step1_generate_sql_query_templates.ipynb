{
 "cells": [
  {
   "cell_type": "code",
   "execution_count": 1,
   "metadata": {},
   "outputs": [],
   "source": [
    "from indo_eval.generate_sql_templates import generate_sql_templates, save_sql_templates_to_text, generate_prompt\n",
    "from indo_eval.db_tool import db_tool"
   ]
  },
  {
   "cell_type": "code",
   "execution_count": 6,
   "metadata": {},
   "outputs": [
    {
     "name": "stdout",
     "output_type": "stream",
     "text": [
      " \n",
      "    ##DATA SCHEMA##\n",
      "    Table: Employee\n",
      "\t Column: Name (VARCHAR(255))\n",
      "\t Column: JobTitle (VARCHAR(255))\n",
      "\t Column: Department (VARCHAR(255))\n",
      "\t Column: SupervisorOrManager (VARCHAR(255))\n",
      " \n",
      "\n",
      "    ##RESPONSE_START##\n",
      "    \n",
      "You are a SQL query Template Generator: Generate ACCEPTABLE SQL query templates with placeholders according to the give data schema and requirements.\n",
      "    A simple example of an acceptable SQL query template is: SELECT Industry FROM Company WHERE Name = '[Company.Name]';\n",
      "    \n",
      "    You must follow the basic criteria below: \n",
      "    ##CRITERIA##     \n",
      "\t- The placeholder format should be a combination of a table name and a column name, enclosed within square brackets, e.g., '[User.Name]'.    \n",
      "\t- Use only 'SELECT' queries.    \n",
      "\t- Select specific column(s) instead of using '*'. Avoid projecting attributes that appear in the predicate.    \n",
      "\t- The selected and condition columns in the query MUST BE MEANINGFUL and DESCRIPTIVE to ensure the queries are easily understood by non-technical users.     \n",
      "\t- Avoid using technical column names that don't clearly signify the nature of the entities or objects involved, e.g., column for semantically void record identifiers.    \n",
      "\t- Do not create redundant or semantically duplicated queries when translated into natural language.     \n",
      "\t- Select only one specific column     \n",
      "\t- Ensure the query yields a specific and singular answer to avoid multiplicity issues. \"SELECT Name, StartDate, EndDate FROM Project WHERE StartDate >= '[Project.StartDate]'\" is an invalid example since mulitple projects can start after '[Project.StartDate]'     \n",
      "\t- Each query must contain at least one parameter placeholder in the WHERE clause.     \n",
      "\t    \n",
      "\t- If no acceptable SQL template can be generated with the given table and column information, do not generate any text.\n",
      "\n",
      "    ##RESPONSE FORMAT##\n",
      "    - Output each SQL template as a single line, without any prefix or suffix.\n",
      "    - Do not include any other text in your response, even something like ##RESPONSE_END##.\n",
      "\n",
      "SELECT Name FROM Employee WHERE JobTitle = '[Employee.JobTitle]';\n",
      "SELECT JobTitle FROM Employee WHERE Name = '[Employee.Name]';\n",
      "SELECT Department FROM Employee WHERE Name = '[Employee.Name]';\n",
      "SELECT SupervisorOrManager FROM Employee WHERE Name = '[Employee.Name]';\n",
      "SELECT Name FROM Employee WHERE SupervisorOrManager = '[Employee.SupervisorOrManager]';\n"
     ]
    }
   ],
   "source": [
    "# one table\n",
    "one_placeholder = \"\"\"- Each query must contain at least one parameter placeholder in the WHERE clause. \\\n",
    "    \\n\\t\"\"\"\n",
    "no_answer_multiplicity = \"\"\"- Ensure the query yields a specific and singular answer to avoid multiplicity issues. \"SELECT Name, StartDate, EndDate FROM Project WHERE StartDate >= '[Project.StartDate]'\" is an invalid example since mulitple projects can start after '[Project.StartDate]' \\\n",
    "    \\n\\t\"\"\"\n",
    "one_perspective = \"\"\"- Select only one specific column \\\n",
    "    \\n\\t\"\"\"\n",
    "one_table = \"\"\"- Each query must involve only one entity (table). \\\n",
    "    \\n\\t\"\"\"\n",
    "entity_types = db_tool.infer_entity_types_from_table_names(verbose=False) #['Project', 'Client', 'Employee']\n",
    "entity_types = [entity_types[1]]\n",
    "constraint1 = one_perspective+no_answer_multiplicity+one_placeholder\n",
    "# Join Two Entities/Tables\n",
    "# no_unexplainable_columns = \"\"\"- MUST NOT use unexplainable columns (e.g., ID) in the WHERE clause. An INVALID example: SELECT Company.Name FROM Company INNER JOIN Company_Project ON Company.CompanyID = Company_Project.CompanyID INNER JOIN Project ON Project.ProjectID = Company_Project.ProjectID WHERE Project.ID = [Project.ID]; A VALID example: SELECT Company.Name FROM Company INNER JOIN Company_Project ON Company.CompanyID = Company_Project.CompanyID INNER JOIN Project ON Project.ProjectID = Company_Project.ProjectID WHERE Project.Name = [Project.Name]\\\n",
    "#     \\n\\t\"\"\"\n",
    "# # SELECT Project.Name FROM Project INNER JOIN Company_Project ON Project.ProjectID = Company_Project.ProjectID WHERE Company_Project.CompanyID = '[Company.CompanyID]'; \n",
    "# # SELECT Project.Name FROM Project INNER JOIN Company_Project ON Project.ProjectID = Company_Project.ProjectID WHERE Company.CompanyName = '[Company.CompanyName]' \n",
    "# two_tables = \"\"\"- Each query must involve the relation betwen {} and {}. \\\n",
    "#     \\n\\t\"\"\"\n",
    "# entity_types = [\"Employee\", \"Project\"] \n",
    "# two_tables = two_tables.format(entity_types[0], entity_types[1])\n",
    "# constraint2 = two_tables+no_unexplainable_columns\n",
    "# print(generate_prompt(entity_types, constraint1)[0])\n",
    "# print(generate_prompt(entity_types, constraint1)[1])\n",
    "\n",
    "templates = generate_sql_templates(entity_types, constraint1)\n",
    "print(templates)\n",
    "\n"
   ]
  },
  {
   "cell_type": "code",
   "execution_count": 7,
   "metadata": {},
   "outputs": [],
   "source": [
    "# save to text\n",
    "save_sql_templates_to_text(templates, f\"{'_'.join(entity_types)}.txt\")"
   ]
  },
  {
   "cell_type": "code",
   "execution_count": null,
   "metadata": {},
   "outputs": [],
   "source": []
  }
 ],
 "metadata": {
  "kernelspec": {
   "display_name": "langchain",
   "language": "python",
   "name": "python3"
  },
  "language_info": {
   "codemirror_mode": {
    "name": "ipython",
    "version": 3
   },
   "file_extension": ".py",
   "mimetype": "text/x-python",
   "name": "python",
   "nbconvert_exporter": "python",
   "pygments_lexer": "ipython3",
   "version": "3.11.4"
  }
 },
 "nbformat": 4,
 "nbformat_minor": 2
}
